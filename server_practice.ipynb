{
 "metadata": {
  "name": "server_practice.ipynb"
 },
 "nbformat": 3,
 "nbformat_minor": 0,
 "worksheets": [
  {
   "cells": [
    {
     "cell_type": "code",
     "collapsed": false,
     "input": [
      "from bottle import Bottle, run\n",
      "from bottle import error\n",
      "\n",
      "app = Bottle()\n",
      "\n",
      "@app.route('/')\n",
      "@app.route('/hello')\n",
      "def hello():\n",
      "    return \"Hello World!\"\n",
      "\n",
      "run(app, host='localhost', port=8080)\n",
      "\n",
      "@error(404)\n",
      "def error404(error):\n",
      "    return 'Nothing to see here, move along!'"
     ],
     "language": "python",
     "metadata": {},
     "outputs": [
      {
       "output_type": "stream",
       "stream": "stderr",
       "text": [
        "Bottle v0.12.7 server starting up (using WSGIRefServer())...\n",
        "Listening on http://localhost:8080/\n",
        "Hit Ctrl-C to quit.\n",
        "\n",
        "127.0.0.1 - - [28/Oct/2014 23:14:54] \"GET /hello HTTP/1.1\" 200 12\n"
       ]
      }
     ],
     "prompt_number": "*"
    }
   ],
   "metadata": {}
  }
 ]
}